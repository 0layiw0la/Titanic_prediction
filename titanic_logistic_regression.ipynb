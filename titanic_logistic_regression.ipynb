{
 "cells": [
  {
   "cell_type": "code",
   "execution_count": 1,
   "id": "ec2e0f76",
   "metadata": {
    "_cell_guid": "b1076dfc-b9ad-4769-8c92-a6c4dae69d19",
    "_uuid": "8f2839f25d086af736a60e9eeb907d3b93b6e0e5",
    "execution": {
     "iopub.execute_input": "2023-10-20T15:13:56.653559Z",
     "iopub.status.busy": "2023-10-20T15:13:56.653197Z",
     "iopub.status.idle": "2023-10-20T15:13:58.396383Z",
     "shell.execute_reply": "2023-10-20T15:13:58.395294Z"
    },
    "papermill": {
     "duration": 1.75006,
     "end_time": "2023-10-20T15:13:58.398274",
     "exception": false,
     "start_time": "2023-10-20T15:13:56.648214",
     "status": "completed"
    },
    "tags": []
   },
   "outputs": [
    {
     "name": "stdout",
     "output_type": "stream",
     "text": [
      "/kaggle/input/titanic/train.csv\n",
      "/kaggle/input/titanic/test.csv\n",
      "/kaggle/input/titanic/gender_submission.csv\n"
     ]
    }
   ],
   "source": [
    "# This Python 3 environment comes with many helpful analytics libraries installed\n",
    "# It is defined by the kaggle/python Docker image: https://github.com/kaggle/docker-python\n",
    "# For example, here's several helpful packages to load\n",
    "\n",
    "import numpy as np # linear algebra\n",
    "import pandas as pd # data processing, CSV file I/O (e.g. pd.read_csv)\n",
    "import seaborn as sns\n",
    "from sklearn.model_selection import train_test_split\n",
    "from sklearn import metrics\n",
    "import matplotlib.pyplot as plt\n",
    "from sklearn.datasets import load_digits\n",
    "from sklearn.linear_model import LogisticRegression\n",
    "# Input data files are available in the read-only \"../input/\" directory\n",
    "# For example, running this (by clicking run or pressing Shift+Enter) will list all files under the input directory\n",
    "\n",
    "import os\n",
    "for dirname, _, filenames in os.walk('/kaggle/input'):\n",
    "    for filename in filenames:\n",
    "        print(os.path.join(dirname, filename))\n",
    "\n",
    "# You can write up to 20GB to the current directory (/kaggle/working/) that gets preserved as output when you create a version using \"Save & Run All\" \n",
    "# You can also write temporary files to /kaggle/temp/, but they won't be saved outside of the current session"
   ]
  },
  {
   "cell_type": "code",
   "execution_count": 2,
   "id": "f58dc2f2",
   "metadata": {
    "execution": {
     "iopub.execute_input": "2023-10-20T15:13:58.407099Z",
     "iopub.status.busy": "2023-10-20T15:13:58.406697Z",
     "iopub.status.idle": "2023-10-20T15:13:58.425224Z",
     "shell.execute_reply": "2023-10-20T15:13:58.424421Z"
    },
    "papermill": {
     "duration": 0.024277,
     "end_time": "2023-10-20T15:13:58.427201",
     "exception": false,
     "start_time": "2023-10-20T15:13:58.402924",
     "status": "completed"
    },
    "tags": []
   },
   "outputs": [],
   "source": [
    "titanic = pd.read_csv(r\"/kaggle/input/titanic/train.csv\")"
   ]
  },
  {
   "cell_type": "code",
   "execution_count": 3,
   "id": "8cdb3cc6",
   "metadata": {
    "execution": {
     "iopub.execute_input": "2023-10-20T15:13:58.433936Z",
     "iopub.status.busy": "2023-10-20T15:13:58.433544Z",
     "iopub.status.idle": "2023-10-20T15:13:58.449512Z",
     "shell.execute_reply": "2023-10-20T15:13:58.448814Z"
    },
    "papermill": {
     "duration": 0.021016,
     "end_time": "2023-10-20T15:13:58.451091",
     "exception": false,
     "start_time": "2023-10-20T15:13:58.430075",
     "status": "completed"
    },
    "tags": []
   },
   "outputs": [],
   "source": [
    "titanic = titanic.drop(['Name','Ticket'],axis=1)\n",
    "y = titanic[\"Survived\"]"
   ]
  },
  {
   "cell_type": "code",
   "execution_count": 4,
   "id": "90527e40",
   "metadata": {
    "execution": {
     "iopub.execute_input": "2023-10-20T15:13:58.458012Z",
     "iopub.status.busy": "2023-10-20T15:13:58.457624Z",
     "iopub.status.idle": "2023-10-20T15:13:58.466082Z",
     "shell.execute_reply": "2023-10-20T15:13:58.465542Z"
    },
    "papermill": {
     "duration": 0.013362,
     "end_time": "2023-10-20T15:13:58.467426",
     "exception": false,
     "start_time": "2023-10-20T15:13:58.454064",
     "status": "completed"
    },
    "tags": []
   },
   "outputs": [],
   "source": [
    "feat = ['Pclass','Sex','Fare','Embarked','SibSp','Parch']\n",
    "x = pd.get_dummies(titanic[feat])"
   ]
  },
  {
   "cell_type": "code",
   "execution_count": 5,
   "id": "b4651f3e",
   "metadata": {
    "execution": {
     "iopub.execute_input": "2023-10-20T15:13:58.473799Z",
     "iopub.status.busy": "2023-10-20T15:13:58.473562Z",
     "iopub.status.idle": "2023-10-20T15:13:58.486902Z",
     "shell.execute_reply": "2023-10-20T15:13:58.486127Z"
    },
    "papermill": {
     "duration": 0.018327,
     "end_time": "2023-10-20T15:13:58.488459",
     "exception": false,
     "start_time": "2023-10-20T15:13:58.470132",
     "status": "completed"
    },
    "tags": []
   },
   "outputs": [
    {
     "data": {
      "text/html": [
       "<div>\n",
       "<style scoped>\n",
       "    .dataframe tbody tr th:only-of-type {\n",
       "        vertical-align: middle;\n",
       "    }\n",
       "\n",
       "    .dataframe tbody tr th {\n",
       "        vertical-align: top;\n",
       "    }\n",
       "\n",
       "    .dataframe thead th {\n",
       "        text-align: right;\n",
       "    }\n",
       "</style>\n",
       "<table border=\"1\" class=\"dataframe\">\n",
       "  <thead>\n",
       "    <tr style=\"text-align: right;\">\n",
       "      <th></th>\n",
       "      <th>Pclass</th>\n",
       "      <th>Fare</th>\n",
       "      <th>SibSp</th>\n",
       "      <th>Parch</th>\n",
       "      <th>Sex_female</th>\n",
       "      <th>Sex_male</th>\n",
       "      <th>Embarked_C</th>\n",
       "      <th>Embarked_Q</th>\n",
       "      <th>Embarked_S</th>\n",
       "    </tr>\n",
       "  </thead>\n",
       "  <tbody>\n",
       "    <tr>\n",
       "      <th>0</th>\n",
       "      <td>3</td>\n",
       "      <td>7.2500</td>\n",
       "      <td>1</td>\n",
       "      <td>0</td>\n",
       "      <td>False</td>\n",
       "      <td>True</td>\n",
       "      <td>False</td>\n",
       "      <td>False</td>\n",
       "      <td>True</td>\n",
       "    </tr>\n",
       "    <tr>\n",
       "      <th>1</th>\n",
       "      <td>1</td>\n",
       "      <td>71.2833</td>\n",
       "      <td>1</td>\n",
       "      <td>0</td>\n",
       "      <td>True</td>\n",
       "      <td>False</td>\n",
       "      <td>True</td>\n",
       "      <td>False</td>\n",
       "      <td>False</td>\n",
       "    </tr>\n",
       "    <tr>\n",
       "      <th>2</th>\n",
       "      <td>3</td>\n",
       "      <td>7.9250</td>\n",
       "      <td>0</td>\n",
       "      <td>0</td>\n",
       "      <td>True</td>\n",
       "      <td>False</td>\n",
       "      <td>False</td>\n",
       "      <td>False</td>\n",
       "      <td>True</td>\n",
       "    </tr>\n",
       "    <tr>\n",
       "      <th>3</th>\n",
       "      <td>1</td>\n",
       "      <td>53.1000</td>\n",
       "      <td>1</td>\n",
       "      <td>0</td>\n",
       "      <td>True</td>\n",
       "      <td>False</td>\n",
       "      <td>False</td>\n",
       "      <td>False</td>\n",
       "      <td>True</td>\n",
       "    </tr>\n",
       "    <tr>\n",
       "      <th>4</th>\n",
       "      <td>3</td>\n",
       "      <td>8.0500</td>\n",
       "      <td>0</td>\n",
       "      <td>0</td>\n",
       "      <td>False</td>\n",
       "      <td>True</td>\n",
       "      <td>False</td>\n",
       "      <td>False</td>\n",
       "      <td>True</td>\n",
       "    </tr>\n",
       "  </tbody>\n",
       "</table>\n",
       "</div>"
      ],
      "text/plain": [
       "   Pclass     Fare  SibSp  Parch  Sex_female  Sex_male  Embarked_C  \\\n",
       "0       3   7.2500      1      0       False      True       False   \n",
       "1       1  71.2833      1      0        True     False        True   \n",
       "2       3   7.9250      0      0        True     False       False   \n",
       "3       1  53.1000      1      0        True     False       False   \n",
       "4       3   8.0500      0      0       False      True       False   \n",
       "\n",
       "   Embarked_Q  Embarked_S  \n",
       "0       False        True  \n",
       "1       False       False  \n",
       "2       False        True  \n",
       "3       False        True  \n",
       "4       False        True  "
      ]
     },
     "execution_count": 5,
     "metadata": {},
     "output_type": "execute_result"
    }
   ],
   "source": [
    "x.head()"
   ]
  },
  {
   "cell_type": "code",
   "execution_count": 6,
   "id": "587e2598",
   "metadata": {
    "execution": {
     "iopub.execute_input": "2023-10-20T15:13:58.495420Z",
     "iopub.status.busy": "2023-10-20T15:13:58.495020Z",
     "iopub.status.idle": "2023-10-20T15:13:58.506837Z",
     "shell.execute_reply": "2023-10-20T15:13:58.506264Z"
    },
    "papermill": {
     "duration": 0.016957,
     "end_time": "2023-10-20T15:13:58.508413",
     "exception": false,
     "start_time": "2023-10-20T15:13:58.491456",
     "status": "completed"
    },
    "tags": []
   },
   "outputs": [],
   "source": [
    "x_train,x_test,y_train,y_test = train_test_split(x,y,test_size=0.25,stratify=x[[\"Sex_male\",\"Sex_female\",\"Pclass\"]],random_state=45)"
   ]
  },
  {
   "cell_type": "code",
   "execution_count": 7,
   "id": "ccdd8d6d",
   "metadata": {
    "execution": {
     "iopub.execute_input": "2023-10-20T15:13:58.515808Z",
     "iopub.status.busy": "2023-10-20T15:13:58.515551Z",
     "iopub.status.idle": "2023-10-20T15:13:58.565296Z",
     "shell.execute_reply": "2023-10-20T15:13:58.564503Z"
    },
    "papermill": {
     "duration": 0.055622,
     "end_time": "2023-10-20T15:13:58.567329",
     "exception": false,
     "start_time": "2023-10-20T15:13:58.511707",
     "status": "completed"
    },
    "tags": []
   },
   "outputs": [
    {
     "data": {
      "text/html": [
       "<style>#sk-container-id-1 {color: black;background-color: white;}#sk-container-id-1 pre{padding: 0;}#sk-container-id-1 div.sk-toggleable {background-color: white;}#sk-container-id-1 label.sk-toggleable__label {cursor: pointer;display: block;width: 100%;margin-bottom: 0;padding: 0.3em;box-sizing: border-box;text-align: center;}#sk-container-id-1 label.sk-toggleable__label-arrow:before {content: \"▸\";float: left;margin-right: 0.25em;color: #696969;}#sk-container-id-1 label.sk-toggleable__label-arrow:hover:before {color: black;}#sk-container-id-1 div.sk-estimator:hover label.sk-toggleable__label-arrow:before {color: black;}#sk-container-id-1 div.sk-toggleable__content {max-height: 0;max-width: 0;overflow: hidden;text-align: left;background-color: #f0f8ff;}#sk-container-id-1 div.sk-toggleable__content pre {margin: 0.2em;color: black;border-radius: 0.25em;background-color: #f0f8ff;}#sk-container-id-1 input.sk-toggleable__control:checked~div.sk-toggleable__content {max-height: 200px;max-width: 100%;overflow: auto;}#sk-container-id-1 input.sk-toggleable__control:checked~label.sk-toggleable__label-arrow:before {content: \"▾\";}#sk-container-id-1 div.sk-estimator input.sk-toggleable__control:checked~label.sk-toggleable__label {background-color: #d4ebff;}#sk-container-id-1 div.sk-label input.sk-toggleable__control:checked~label.sk-toggleable__label {background-color: #d4ebff;}#sk-container-id-1 input.sk-hidden--visually {border: 0;clip: rect(1px 1px 1px 1px);clip: rect(1px, 1px, 1px, 1px);height: 1px;margin: -1px;overflow: hidden;padding: 0;position: absolute;width: 1px;}#sk-container-id-1 div.sk-estimator {font-family: monospace;background-color: #f0f8ff;border: 1px dotted black;border-radius: 0.25em;box-sizing: border-box;margin-bottom: 0.5em;}#sk-container-id-1 div.sk-estimator:hover {background-color: #d4ebff;}#sk-container-id-1 div.sk-parallel-item::after {content: \"\";width: 100%;border-bottom: 1px solid gray;flex-grow: 1;}#sk-container-id-1 div.sk-label:hover label.sk-toggleable__label {background-color: #d4ebff;}#sk-container-id-1 div.sk-serial::before {content: \"\";position: absolute;border-left: 1px solid gray;box-sizing: border-box;top: 0;bottom: 0;left: 50%;z-index: 0;}#sk-container-id-1 div.sk-serial {display: flex;flex-direction: column;align-items: center;background-color: white;padding-right: 0.2em;padding-left: 0.2em;position: relative;}#sk-container-id-1 div.sk-item {position: relative;z-index: 1;}#sk-container-id-1 div.sk-parallel {display: flex;align-items: stretch;justify-content: center;background-color: white;position: relative;}#sk-container-id-1 div.sk-item::before, #sk-container-id-1 div.sk-parallel-item::before {content: \"\";position: absolute;border-left: 1px solid gray;box-sizing: border-box;top: 0;bottom: 0;left: 50%;z-index: -1;}#sk-container-id-1 div.sk-parallel-item {display: flex;flex-direction: column;z-index: 1;position: relative;background-color: white;}#sk-container-id-1 div.sk-parallel-item:first-child::after {align-self: flex-end;width: 50%;}#sk-container-id-1 div.sk-parallel-item:last-child::after {align-self: flex-start;width: 50%;}#sk-container-id-1 div.sk-parallel-item:only-child::after {width: 0;}#sk-container-id-1 div.sk-dashed-wrapped {border: 1px dashed gray;margin: 0 0.4em 0.5em 0.4em;box-sizing: border-box;padding-bottom: 0.4em;background-color: white;}#sk-container-id-1 div.sk-label label {font-family: monospace;font-weight: bold;display: inline-block;line-height: 1.2em;}#sk-container-id-1 div.sk-label-container {text-align: center;}#sk-container-id-1 div.sk-container {/* jupyter's `normalize.less` sets `[hidden] { display: none; }` but bootstrap.min.css set `[hidden] { display: none !important; }` so we also need the `!important` here to be able to override the default hidden behavior on the sphinx rendered scikit-learn.org. See: https://github.com/scikit-learn/scikit-learn/issues/21755 */display: inline-block !important;position: relative;}#sk-container-id-1 div.sk-text-repr-fallback {display: none;}</style><div id=\"sk-container-id-1\" class=\"sk-top-container\"><div class=\"sk-text-repr-fallback\"><pre>LogisticRegression(max_iter=2000)</pre><b>In a Jupyter environment, please rerun this cell to show the HTML representation or trust the notebook. <br />On GitHub, the HTML representation is unable to render, please try loading this page with nbviewer.org.</b></div><div class=\"sk-container\" hidden><div class=\"sk-item\"><div class=\"sk-estimator sk-toggleable\"><input class=\"sk-toggleable__control sk-hidden--visually\" id=\"sk-estimator-id-1\" type=\"checkbox\" checked><label for=\"sk-estimator-id-1\" class=\"sk-toggleable__label sk-toggleable__label-arrow\">LogisticRegression</label><div class=\"sk-toggleable__content\"><pre>LogisticRegression(max_iter=2000)</pre></div></div></div></div></div>"
      ],
      "text/plain": [
       "LogisticRegression(max_iter=2000)"
      ]
     },
     "execution_count": 7,
     "metadata": {},
     "output_type": "execute_result"
    }
   ],
   "source": [
    "lregr = LogisticRegression(max_iter=2000)\n",
    "lregr.fit(x,y)"
   ]
  },
  {
   "cell_type": "code",
   "execution_count": 8,
   "id": "11995bb8",
   "metadata": {
    "execution": {
     "iopub.execute_input": "2023-10-20T15:13:58.575013Z",
     "iopub.status.busy": "2023-10-20T15:13:58.574778Z",
     "iopub.status.idle": "2023-10-20T15:13:58.587970Z",
     "shell.execute_reply": "2023-10-20T15:13:58.587381Z"
    },
    "papermill": {
     "duration": 0.018739,
     "end_time": "2023-10-20T15:13:58.589469",
     "exception": false,
     "start_time": "2023-10-20T15:13:58.570730",
     "status": "completed"
    },
    "tags": []
   },
   "outputs": [],
   "source": [
    "test = pd.read_csv(\"/kaggle/input/titanic/test.csv\")\n",
    "test = pd.get_dummies(test[feat])"
   ]
  },
  {
   "cell_type": "code",
   "execution_count": 9,
   "id": "75d6f19f",
   "metadata": {
    "execution": {
     "iopub.execute_input": "2023-10-20T15:13:58.596821Z",
     "iopub.status.busy": "2023-10-20T15:13:58.596560Z",
     "iopub.status.idle": "2023-10-20T15:13:58.606954Z",
     "shell.execute_reply": "2023-10-20T15:13:58.606106Z"
    },
    "papermill": {
     "duration": 0.015793,
     "end_time": "2023-10-20T15:13:58.608491",
     "exception": false,
     "start_time": "2023-10-20T15:13:58.592698",
     "status": "completed"
    },
    "tags": []
   },
   "outputs": [],
   "source": [
    "mean_fare_by_pclass = test.groupby(\"Pclass\")[\"Fare\"].transform(\"mean\")\n",
    "\n",
    "# Use the calculated means to fill missing values in the Fare column\n",
    "test[\"Fare\"].fillna(mean_fare_by_pclass, inplace=True)"
   ]
  },
  {
   "cell_type": "code",
   "execution_count": 10,
   "id": "cb15fee2",
   "metadata": {
    "execution": {
     "iopub.execute_input": "2023-10-20T15:13:58.615624Z",
     "iopub.status.busy": "2023-10-20T15:13:58.615391Z",
     "iopub.status.idle": "2023-10-20T15:13:58.621593Z",
     "shell.execute_reply": "2023-10-20T15:13:58.620790Z"
    },
    "papermill": {
     "duration": 0.011399,
     "end_time": "2023-10-20T15:13:58.623082",
     "exception": false,
     "start_time": "2023-10-20T15:13:58.611683",
     "status": "completed"
    },
    "tags": []
   },
   "outputs": [
    {
     "data": {
      "text/plain": [
       "Pclass        0\n",
       "Fare          0\n",
       "SibSp         0\n",
       "Parch         0\n",
       "Sex_female    0\n",
       "Sex_male      0\n",
       "Embarked_C    0\n",
       "Embarked_Q    0\n",
       "Embarked_S    0\n",
       "dtype: int64"
      ]
     },
     "execution_count": 10,
     "metadata": {},
     "output_type": "execute_result"
    }
   ],
   "source": [
    "test.isna().sum()"
   ]
  },
  {
   "cell_type": "code",
   "execution_count": 11,
   "id": "5c3ea203",
   "metadata": {
    "execution": {
     "iopub.execute_input": "2023-10-20T15:13:58.630544Z",
     "iopub.status.busy": "2023-10-20T15:13:58.630292Z",
     "iopub.status.idle": "2023-10-20T15:13:58.635082Z",
     "shell.execute_reply": "2023-10-20T15:13:58.634572Z"
    },
    "papermill": {
     "duration": 0.010236,
     "end_time": "2023-10-20T15:13:58.636440",
     "exception": false,
     "start_time": "2023-10-20T15:13:58.626204",
     "status": "completed"
    },
    "tags": []
   },
   "outputs": [],
   "source": [
    "preds = lregr.predict(test)"
   ]
  },
  {
   "cell_type": "code",
   "execution_count": 12,
   "id": "17d2324e",
   "metadata": {
    "execution": {
     "iopub.execute_input": "2023-10-20T15:13:58.643947Z",
     "iopub.status.busy": "2023-10-20T15:13:58.643550Z",
     "iopub.status.idle": "2023-10-20T15:13:58.647767Z",
     "shell.execute_reply": "2023-10-20T15:13:58.646987Z"
    },
    "papermill": {
     "duration": 0.009634,
     "end_time": "2023-10-20T15:13:58.649312",
     "exception": false,
     "start_time": "2023-10-20T15:13:58.639678",
     "status": "completed"
    },
    "tags": []
   },
   "outputs": [
    {
     "data": {
      "text/plain": [
       "(418,)"
      ]
     },
     "execution_count": 12,
     "metadata": {},
     "output_type": "execute_result"
    }
   ],
   "source": [
    "preds.shape"
   ]
  },
  {
   "cell_type": "code",
   "execution_count": 13,
   "id": "a83aea83",
   "metadata": {
    "execution": {
     "iopub.execute_input": "2023-10-20T15:13:58.656787Z",
     "iopub.status.busy": "2023-10-20T15:13:58.656552Z",
     "iopub.status.idle": "2023-10-20T15:13:58.664463Z",
     "shell.execute_reply": "2023-10-20T15:13:58.663671Z"
    },
    "papermill": {
     "duration": 0.013252,
     "end_time": "2023-10-20T15:13:58.665846",
     "exception": false,
     "start_time": "2023-10-20T15:13:58.652594",
     "status": "completed"
    },
    "tags": []
   },
   "outputs": [
    {
     "data": {
      "text/plain": [
       "(418, 11)"
      ]
     },
     "execution_count": 13,
     "metadata": {},
     "output_type": "execute_result"
    }
   ],
   "source": [
    "x = pd.read_csv(r\"/kaggle/input/titanic/test.csv\")\n",
    "x.shape"
   ]
  },
  {
   "cell_type": "code",
   "execution_count": 14,
   "id": "0f6ba931",
   "metadata": {
    "execution": {
     "iopub.execute_input": "2023-10-20T15:13:58.673509Z",
     "iopub.status.busy": "2023-10-20T15:13:58.673255Z",
     "iopub.status.idle": "2023-10-20T15:13:58.679202Z",
     "shell.execute_reply": "2023-10-20T15:13:58.678495Z"
    },
    "papermill": {
     "duration": 0.011425,
     "end_time": "2023-10-20T15:13:58.680627",
     "exception": false,
     "start_time": "2023-10-20T15:13:58.669202",
     "status": "completed"
    },
    "tags": []
   },
   "outputs": [
    {
     "name": "stdout",
     "output_type": "stream",
     "text": [
      "   PassengerId  Survived\n",
      "0          892         0\n",
      "1          893         1\n",
      "2          894         0\n",
      "3          895         0\n",
      "4          896         1\n"
     ]
    }
   ],
   "source": [
    "new_df = pd.DataFrame({'PassengerId': x['PassengerId']})\n",
    "\n",
    "# Add the 'Survived' column from the 'preds' variable\n",
    "new_df['Survived'] = preds\n",
    "\n",
    "# Display the first few rows of the new DataFrame\n",
    "print(new_df.head())"
   ]
  },
  {
   "cell_type": "code",
   "execution_count": 15,
   "id": "3f00469a",
   "metadata": {
    "execution": {
     "iopub.execute_input": "2023-10-20T15:13:58.688483Z",
     "iopub.status.busy": "2023-10-20T15:13:58.688202Z",
     "iopub.status.idle": "2023-10-20T15:13:58.694738Z",
     "shell.execute_reply": "2023-10-20T15:13:58.693951Z"
    },
    "papermill": {
     "duration": 0.012444,
     "end_time": "2023-10-20T15:13:58.696451",
     "exception": false,
     "start_time": "2023-10-20T15:13:58.684007",
     "status": "completed"
    },
    "tags": []
   },
   "outputs": [],
   "source": [
    "new_df.to_csv('/kaggle/working/submission8.csv', index=False)\n"
   ]
  }
 ],
 "metadata": {
  "kernelspec": {
   "display_name": "Python 3",
   "language": "python",
   "name": "python3"
  },
  "language_info": {
   "codemirror_mode": {
    "name": "ipython",
    "version": 3
   },
   "file_extension": ".py",
   "mimetype": "text/x-python",
   "name": "python",
   "nbconvert_exporter": "python",
   "pygments_lexer": "ipython3",
   "version": "3.10.12"
  },
  "papermill": {
   "default_parameters": {},
   "duration": 5.096309,
   "end_time": "2023-10-20T15:13:59.116974",
   "environment_variables": {},
   "exception": null,
   "input_path": "__notebook__.ipynb",
   "output_path": "__notebook__.ipynb",
   "parameters": {},
   "start_time": "2023-10-20T15:13:54.020665",
   "version": "2.4.0"
  }
 },
 "nbformat": 4,
 "nbformat_minor": 5
}
