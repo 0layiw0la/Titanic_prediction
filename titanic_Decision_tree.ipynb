{
 "cells": [
  {
   "cell_type": "code",
   "execution_count": 1,
   "id": "ff3220e6",
   "metadata": {
    "_cell_guid": "b1076dfc-b9ad-4769-8c92-a6c4dae69d19",
    "_uuid": "8f2839f25d086af736a60e9eeb907d3b93b6e0e5",
    "execution": {
     "iopub.execute_input": "2023-10-20T16:11:13.746762Z",
     "iopub.status.busy": "2023-10-20T16:11:13.746457Z",
     "iopub.status.idle": "2023-10-20T16:11:15.731758Z",
     "shell.execute_reply": "2023-10-20T16:11:15.730627Z"
    },
    "papermill": {
     "duration": 1.992573,
     "end_time": "2023-10-20T16:11:15.734333",
     "exception": false,
     "start_time": "2023-10-20T16:11:13.741760",
     "status": "completed"
    },
    "tags": []
   },
   "outputs": [
    {
     "name": "stdout",
     "output_type": "stream",
     "text": [
      "/kaggle/input/titanic/train.csv\n",
      "/kaggle/input/titanic/test.csv\n",
      "/kaggle/input/titanic/gender_submission.csv\n"
     ]
    }
   ],
   "source": [
    "# This Python 3 environment comes with many helpful analytics libraries installed\n",
    "# It is defined by the kaggle/python Docker image: https://github.com/kaggle/docker-python\n",
    "# For example, here's several helpful packages to load\n",
    "\n",
    "import numpy as np # linear algebra\n",
    "import pandas as pd # data processing, CSV file I/O (e.g. pd.read_csv)\n",
    "import seaborn as sns\n",
    "from sklearn.model_selection import train_test_split\n",
    "from sklearn import metrics\n",
    "import matplotlib.pyplot as plt\n",
    "from sklearn.datasets import load_digits\n",
    "from sklearn.linear_model import LogisticRegression\n",
    "from sklearn.tree import DecisionTreeClassifier\n",
    "from sklearn.metrics import accuracy_score\n",
    "# Input data files are available in the read-only \"../input/\" directory\n",
    "# For example, running this (by clicking run or pressing Shift+Enter) will list all files under the input directory\n",
    "\n",
    "import os\n",
    "for dirname, _, filenames in os.walk('/kaggle/input'):\n",
    "    for filename in filenames:\n",
    "        print(os.path.join(dirname, filename))\n",
    "\n",
    "# You can write up to 20GB to the current directory (/kaggle/working/) that gets preserved as output when you create a version using \"Save & Run All\" \n",
    "# You can also write temporary files to /kaggle/temp/, but they won't be saved outside of the current session"
   ]
  },
  {
   "cell_type": "code",
   "execution_count": 2,
   "id": "e25cd87f",
   "metadata": {
    "execution": {
     "iopub.execute_input": "2023-10-20T16:11:15.741061Z",
     "iopub.status.busy": "2023-10-20T16:11:15.740570Z",
     "iopub.status.idle": "2023-10-20T16:11:15.759315Z",
     "shell.execute_reply": "2023-10-20T16:11:15.758500Z"
    },
    "papermill": {
     "duration": 0.024379,
     "end_time": "2023-10-20T16:11:15.761414",
     "exception": false,
     "start_time": "2023-10-20T16:11:15.737035",
     "status": "completed"
    },
    "tags": []
   },
   "outputs": [],
   "source": [
    "titanic = pd.read_csv(r\"/kaggle/input/titanic/train.csv\")"
   ]
  },
  {
   "cell_type": "code",
   "execution_count": 3,
   "id": "0c45e7b3",
   "metadata": {
    "execution": {
     "iopub.execute_input": "2023-10-20T16:11:15.768104Z",
     "iopub.status.busy": "2023-10-20T16:11:15.767844Z",
     "iopub.status.idle": "2023-10-20T16:11:15.788633Z",
     "shell.execute_reply": "2023-10-20T16:11:15.787691Z"
    },
    "papermill": {
     "duration": 0.026099,
     "end_time": "2023-10-20T16:11:15.790556",
     "exception": false,
     "start_time": "2023-10-20T16:11:15.764457",
     "status": "completed"
    },
    "tags": []
   },
   "outputs": [],
   "source": [
    "titanic = titanic.drop(['Name','Ticket'],axis=1)\n",
    "y = titanic[\"Survived\"]"
   ]
  },
  {
   "cell_type": "code",
   "execution_count": 4,
   "id": "f00811f0",
   "metadata": {
    "execution": {
     "iopub.execute_input": "2023-10-20T16:11:15.797799Z",
     "iopub.status.busy": "2023-10-20T16:11:15.797501Z",
     "iopub.status.idle": "2023-10-20T16:11:15.806862Z",
     "shell.execute_reply": "2023-10-20T16:11:15.805936Z"
    },
    "papermill": {
     "duration": 0.014721,
     "end_time": "2023-10-20T16:11:15.808582",
     "exception": false,
     "start_time": "2023-10-20T16:11:15.793861",
     "status": "completed"
    },
    "tags": []
   },
   "outputs": [],
   "source": [
    "feat = ['Pclass','Sex','Fare','Embarked','SibSp','Parch']\n",
    "x = pd.get_dummies(titanic[feat])"
   ]
  },
  {
   "cell_type": "code",
   "execution_count": 5,
   "id": "40f339c1",
   "metadata": {
    "execution": {
     "iopub.execute_input": "2023-10-20T16:11:15.816433Z",
     "iopub.status.busy": "2023-10-20T16:11:15.815940Z",
     "iopub.status.idle": "2023-10-20T16:11:15.830541Z",
     "shell.execute_reply": "2023-10-20T16:11:15.829651Z"
    },
    "papermill": {
     "duration": 0.020473,
     "end_time": "2023-10-20T16:11:15.832095",
     "exception": false,
     "start_time": "2023-10-20T16:11:15.811622",
     "status": "completed"
    },
    "tags": []
   },
   "outputs": [
    {
     "data": {
      "text/html": [
       "<div>\n",
       "<style scoped>\n",
       "    .dataframe tbody tr th:only-of-type {\n",
       "        vertical-align: middle;\n",
       "    }\n",
       "\n",
       "    .dataframe tbody tr th {\n",
       "        vertical-align: top;\n",
       "    }\n",
       "\n",
       "    .dataframe thead th {\n",
       "        text-align: right;\n",
       "    }\n",
       "</style>\n",
       "<table border=\"1\" class=\"dataframe\">\n",
       "  <thead>\n",
       "    <tr style=\"text-align: right;\">\n",
       "      <th></th>\n",
       "      <th>Pclass</th>\n",
       "      <th>Fare</th>\n",
       "      <th>SibSp</th>\n",
       "      <th>Parch</th>\n",
       "      <th>Sex_female</th>\n",
       "      <th>Sex_male</th>\n",
       "      <th>Embarked_C</th>\n",
       "      <th>Embarked_Q</th>\n",
       "      <th>Embarked_S</th>\n",
       "    </tr>\n",
       "  </thead>\n",
       "  <tbody>\n",
       "    <tr>\n",
       "      <th>0</th>\n",
       "      <td>3</td>\n",
       "      <td>7.2500</td>\n",
       "      <td>1</td>\n",
       "      <td>0</td>\n",
       "      <td>False</td>\n",
       "      <td>True</td>\n",
       "      <td>False</td>\n",
       "      <td>False</td>\n",
       "      <td>True</td>\n",
       "    </tr>\n",
       "    <tr>\n",
       "      <th>1</th>\n",
       "      <td>1</td>\n",
       "      <td>71.2833</td>\n",
       "      <td>1</td>\n",
       "      <td>0</td>\n",
       "      <td>True</td>\n",
       "      <td>False</td>\n",
       "      <td>True</td>\n",
       "      <td>False</td>\n",
       "      <td>False</td>\n",
       "    </tr>\n",
       "    <tr>\n",
       "      <th>2</th>\n",
       "      <td>3</td>\n",
       "      <td>7.9250</td>\n",
       "      <td>0</td>\n",
       "      <td>0</td>\n",
       "      <td>True</td>\n",
       "      <td>False</td>\n",
       "      <td>False</td>\n",
       "      <td>False</td>\n",
       "      <td>True</td>\n",
       "    </tr>\n",
       "    <tr>\n",
       "      <th>3</th>\n",
       "      <td>1</td>\n",
       "      <td>53.1000</td>\n",
       "      <td>1</td>\n",
       "      <td>0</td>\n",
       "      <td>True</td>\n",
       "      <td>False</td>\n",
       "      <td>False</td>\n",
       "      <td>False</td>\n",
       "      <td>True</td>\n",
       "    </tr>\n",
       "    <tr>\n",
       "      <th>4</th>\n",
       "      <td>3</td>\n",
       "      <td>8.0500</td>\n",
       "      <td>0</td>\n",
       "      <td>0</td>\n",
       "      <td>False</td>\n",
       "      <td>True</td>\n",
       "      <td>False</td>\n",
       "      <td>False</td>\n",
       "      <td>True</td>\n",
       "    </tr>\n",
       "  </tbody>\n",
       "</table>\n",
       "</div>"
      ],
      "text/plain": [
       "   Pclass     Fare  SibSp  Parch  Sex_female  Sex_male  Embarked_C  \\\n",
       "0       3   7.2500      1      0       False      True       False   \n",
       "1       1  71.2833      1      0        True     False        True   \n",
       "2       3   7.9250      0      0        True     False       False   \n",
       "3       1  53.1000      1      0        True     False       False   \n",
       "4       3   8.0500      0      0       False      True       False   \n",
       "\n",
       "   Embarked_Q  Embarked_S  \n",
       "0       False        True  \n",
       "1       False       False  \n",
       "2       False        True  \n",
       "3       False        True  \n",
       "4       False        True  "
      ]
     },
     "execution_count": 5,
     "metadata": {},
     "output_type": "execute_result"
    }
   ],
   "source": [
    "x.head()"
   ]
  },
  {
   "cell_type": "code",
   "execution_count": 6,
   "id": "c8306a98",
   "metadata": {
    "execution": {
     "iopub.execute_input": "2023-10-20T16:11:15.839108Z",
     "iopub.status.busy": "2023-10-20T16:11:15.838420Z",
     "iopub.status.idle": "2023-10-20T16:11:15.848872Z",
     "shell.execute_reply": "2023-10-20T16:11:15.848132Z"
    },
    "papermill": {
     "duration": 0.015925,
     "end_time": "2023-10-20T16:11:15.850828",
     "exception": false,
     "start_time": "2023-10-20T16:11:15.834903",
     "status": "completed"
    },
    "tags": []
   },
   "outputs": [],
   "source": [
    "x_train,x_test,y_train,y_test = train_test_split(x,y,test_size=0.25,stratify=titanic[[\"Sex\",\"Pclass\"]],random_state=45)"
   ]
  },
  {
   "cell_type": "code",
   "execution_count": 7,
   "id": "4d42aaa2",
   "metadata": {
    "execution": {
     "iopub.execute_input": "2023-10-20T16:11:15.858028Z",
     "iopub.status.busy": "2023-10-20T16:11:15.857813Z",
     "iopub.status.idle": "2023-10-20T16:11:15.870980Z",
     "shell.execute_reply": "2023-10-20T16:11:15.870152Z"
    },
    "papermill": {
     "duration": 0.018409,
     "end_time": "2023-10-20T16:11:15.872459",
     "exception": false,
     "start_time": "2023-10-20T16:11:15.854050",
     "status": "completed"
    },
    "tags": []
   },
   "outputs": [
    {
     "data": {
      "text/html": [
       "<style>#sk-container-id-1 {color: black;background-color: white;}#sk-container-id-1 pre{padding: 0;}#sk-container-id-1 div.sk-toggleable {background-color: white;}#sk-container-id-1 label.sk-toggleable__label {cursor: pointer;display: block;width: 100%;margin-bottom: 0;padding: 0.3em;box-sizing: border-box;text-align: center;}#sk-container-id-1 label.sk-toggleable__label-arrow:before {content: \"▸\";float: left;margin-right: 0.25em;color: #696969;}#sk-container-id-1 label.sk-toggleable__label-arrow:hover:before {color: black;}#sk-container-id-1 div.sk-estimator:hover label.sk-toggleable__label-arrow:before {color: black;}#sk-container-id-1 div.sk-toggleable__content {max-height: 0;max-width: 0;overflow: hidden;text-align: left;background-color: #f0f8ff;}#sk-container-id-1 div.sk-toggleable__content pre {margin: 0.2em;color: black;border-radius: 0.25em;background-color: #f0f8ff;}#sk-container-id-1 input.sk-toggleable__control:checked~div.sk-toggleable__content {max-height: 200px;max-width: 100%;overflow: auto;}#sk-container-id-1 input.sk-toggleable__control:checked~label.sk-toggleable__label-arrow:before {content: \"▾\";}#sk-container-id-1 div.sk-estimator input.sk-toggleable__control:checked~label.sk-toggleable__label {background-color: #d4ebff;}#sk-container-id-1 div.sk-label input.sk-toggleable__control:checked~label.sk-toggleable__label {background-color: #d4ebff;}#sk-container-id-1 input.sk-hidden--visually {border: 0;clip: rect(1px 1px 1px 1px);clip: rect(1px, 1px, 1px, 1px);height: 1px;margin: -1px;overflow: hidden;padding: 0;position: absolute;width: 1px;}#sk-container-id-1 div.sk-estimator {font-family: monospace;background-color: #f0f8ff;border: 1px dotted black;border-radius: 0.25em;box-sizing: border-box;margin-bottom: 0.5em;}#sk-container-id-1 div.sk-estimator:hover {background-color: #d4ebff;}#sk-container-id-1 div.sk-parallel-item::after {content: \"\";width: 100%;border-bottom: 1px solid gray;flex-grow: 1;}#sk-container-id-1 div.sk-label:hover label.sk-toggleable__label {background-color: #d4ebff;}#sk-container-id-1 div.sk-serial::before {content: \"\";position: absolute;border-left: 1px solid gray;box-sizing: border-box;top: 0;bottom: 0;left: 50%;z-index: 0;}#sk-container-id-1 div.sk-serial {display: flex;flex-direction: column;align-items: center;background-color: white;padding-right: 0.2em;padding-left: 0.2em;position: relative;}#sk-container-id-1 div.sk-item {position: relative;z-index: 1;}#sk-container-id-1 div.sk-parallel {display: flex;align-items: stretch;justify-content: center;background-color: white;position: relative;}#sk-container-id-1 div.sk-item::before, #sk-container-id-1 div.sk-parallel-item::before {content: \"\";position: absolute;border-left: 1px solid gray;box-sizing: border-box;top: 0;bottom: 0;left: 50%;z-index: -1;}#sk-container-id-1 div.sk-parallel-item {display: flex;flex-direction: column;z-index: 1;position: relative;background-color: white;}#sk-container-id-1 div.sk-parallel-item:first-child::after {align-self: flex-end;width: 50%;}#sk-container-id-1 div.sk-parallel-item:last-child::after {align-self: flex-start;width: 50%;}#sk-container-id-1 div.sk-parallel-item:only-child::after {width: 0;}#sk-container-id-1 div.sk-dashed-wrapped {border: 1px dashed gray;margin: 0 0.4em 0.5em 0.4em;box-sizing: border-box;padding-bottom: 0.4em;background-color: white;}#sk-container-id-1 div.sk-label label {font-family: monospace;font-weight: bold;display: inline-block;line-height: 1.2em;}#sk-container-id-1 div.sk-label-container {text-align: center;}#sk-container-id-1 div.sk-container {/* jupyter's `normalize.less` sets `[hidden] { display: none; }` but bootstrap.min.css set `[hidden] { display: none !important; }` so we also need the `!important` here to be able to override the default hidden behavior on the sphinx rendered scikit-learn.org. See: https://github.com/scikit-learn/scikit-learn/issues/21755 */display: inline-block !important;position: relative;}#sk-container-id-1 div.sk-text-repr-fallback {display: none;}</style><div id=\"sk-container-id-1\" class=\"sk-top-container\"><div class=\"sk-text-repr-fallback\"><pre>DecisionTreeClassifier(criterion=&#x27;entropy&#x27;)</pre><b>In a Jupyter environment, please rerun this cell to show the HTML representation or trust the notebook. <br />On GitHub, the HTML representation is unable to render, please try loading this page with nbviewer.org.</b></div><div class=\"sk-container\" hidden><div class=\"sk-item\"><div class=\"sk-estimator sk-toggleable\"><input class=\"sk-toggleable__control sk-hidden--visually\" id=\"sk-estimator-id-1\" type=\"checkbox\" checked><label for=\"sk-estimator-id-1\" class=\"sk-toggleable__label sk-toggleable__label-arrow\">DecisionTreeClassifier</label><div class=\"sk-toggleable__content\"><pre>DecisionTreeClassifier(criterion=&#x27;entropy&#x27;)</pre></div></div></div></div></div>"
      ],
      "text/plain": [
       "DecisionTreeClassifier(criterion='entropy')"
      ]
     },
     "execution_count": 7,
     "metadata": {},
     "output_type": "execute_result"
    }
   ],
   "source": [
    "clf = DecisionTreeClassifier(criterion=\"entropy\")\n",
    "clf.fit(x,y)"
   ]
  },
  {
   "cell_type": "code",
   "execution_count": 8,
   "id": "664f2843",
   "metadata": {
    "execution": {
     "iopub.execute_input": "2023-10-20T16:11:15.879537Z",
     "iopub.status.busy": "2023-10-20T16:11:15.879205Z",
     "iopub.status.idle": "2023-10-20T16:11:15.890857Z",
     "shell.execute_reply": "2023-10-20T16:11:15.889854Z"
    },
    "papermill": {
     "duration": 0.01743,
     "end_time": "2023-10-20T16:11:15.892909",
     "exception": false,
     "start_time": "2023-10-20T16:11:15.875479",
     "status": "completed"
    },
    "tags": []
   },
   "outputs": [],
   "source": [
    "test = pd.read_csv(\"/kaggle/input/titanic/test.csv\")\n",
    "test = pd.get_dummies(test[feat])"
   ]
  },
  {
   "cell_type": "code",
   "execution_count": 9,
   "id": "7ebbf360",
   "metadata": {
    "execution": {
     "iopub.execute_input": "2023-10-20T16:11:15.900762Z",
     "iopub.status.busy": "2023-10-20T16:11:15.900459Z",
     "iopub.status.idle": "2023-10-20T16:11:15.914267Z",
     "shell.execute_reply": "2023-10-20T16:11:15.913279Z"
    },
    "papermill": {
     "duration": 0.019822,
     "end_time": "2023-10-20T16:11:15.916109",
     "exception": false,
     "start_time": "2023-10-20T16:11:15.896287",
     "status": "completed"
    },
    "tags": []
   },
   "outputs": [],
   "source": [
    "mean_fare_by_pclass = test.groupby(\"Pclass\")[\"Fare\"].transform(\"mean\")\n",
    "\n",
    "# Use the calculated means to fill missing values in the Fare column\n",
    "test[\"Fare\"].fillna(mean_fare_by_pclass, inplace=True)"
   ]
  },
  {
   "cell_type": "code",
   "execution_count": 10,
   "id": "1672c6fc",
   "metadata": {
    "execution": {
     "iopub.execute_input": "2023-10-20T16:11:15.923120Z",
     "iopub.status.busy": "2023-10-20T16:11:15.922830Z",
     "iopub.status.idle": "2023-10-20T16:11:15.928993Z",
     "shell.execute_reply": "2023-10-20T16:11:15.928160Z"
    },
    "papermill": {
     "duration": 0.011662,
     "end_time": "2023-10-20T16:11:15.930894",
     "exception": false,
     "start_time": "2023-10-20T16:11:15.919232",
     "status": "completed"
    },
    "tags": []
   },
   "outputs": [
    {
     "data": {
      "text/plain": [
       "Pclass        0\n",
       "Fare          0\n",
       "SibSp         0\n",
       "Parch         0\n",
       "Sex_female    0\n",
       "Sex_male      0\n",
       "Embarked_C    0\n",
       "Embarked_Q    0\n",
       "Embarked_S    0\n",
       "dtype: int64"
      ]
     },
     "execution_count": 10,
     "metadata": {},
     "output_type": "execute_result"
    }
   ],
   "source": [
    "test.isna().sum()"
   ]
  },
  {
   "cell_type": "code",
   "execution_count": 11,
   "id": "f490c75c",
   "metadata": {
    "execution": {
     "iopub.execute_input": "2023-10-20T16:11:15.937744Z",
     "iopub.status.busy": "2023-10-20T16:11:15.937543Z",
     "iopub.status.idle": "2023-10-20T16:11:15.943451Z",
     "shell.execute_reply": "2023-10-20T16:11:15.942659Z"
    },
    "papermill": {
     "duration": 0.010901,
     "end_time": "2023-10-20T16:11:15.944980",
     "exception": false,
     "start_time": "2023-10-20T16:11:15.934079",
     "status": "completed"
    },
    "tags": []
   },
   "outputs": [],
   "source": [
    "preds = clf.predict(test)"
   ]
  },
  {
   "cell_type": "code",
   "execution_count": 12,
   "id": "bce90834",
   "metadata": {
    "execution": {
     "iopub.execute_input": "2023-10-20T16:11:15.951817Z",
     "iopub.status.busy": "2023-10-20T16:11:15.951621Z",
     "iopub.status.idle": "2023-10-20T16:11:15.956164Z",
     "shell.execute_reply": "2023-10-20T16:11:15.955208Z"
    },
    "papermill": {
     "duration": 0.009925,
     "end_time": "2023-10-20T16:11:15.958154",
     "exception": false,
     "start_time": "2023-10-20T16:11:15.948229",
     "status": "completed"
    },
    "tags": []
   },
   "outputs": [
    {
     "data": {
      "text/plain": [
       "(418,)"
      ]
     },
     "execution_count": 12,
     "metadata": {},
     "output_type": "execute_result"
    }
   ],
   "source": [
    "preds.shape"
   ]
  },
  {
   "cell_type": "code",
   "execution_count": 13,
   "id": "92ab118d",
   "metadata": {
    "execution": {
     "iopub.execute_input": "2023-10-20T16:11:15.966120Z",
     "iopub.status.busy": "2023-10-20T16:11:15.965787Z",
     "iopub.status.idle": "2023-10-20T16:11:15.974192Z",
     "shell.execute_reply": "2023-10-20T16:11:15.973539Z"
    },
    "papermill": {
     "duration": 0.01424,
     "end_time": "2023-10-20T16:11:15.975891",
     "exception": false,
     "start_time": "2023-10-20T16:11:15.961651",
     "status": "completed"
    },
    "tags": []
   },
   "outputs": [
    {
     "data": {
      "text/plain": [
       "(418, 11)"
      ]
     },
     "execution_count": 13,
     "metadata": {},
     "output_type": "execute_result"
    }
   ],
   "source": [
    "z = pd.read_csv(r\"/kaggle/input/titanic/test.csv\")\n",
    "z.shape"
   ]
  },
  {
   "cell_type": "code",
   "execution_count": 14,
   "id": "e56c0bd5",
   "metadata": {
    "execution": {
     "iopub.execute_input": "2023-10-20T16:11:15.983564Z",
     "iopub.status.busy": "2023-10-20T16:11:15.982939Z",
     "iopub.status.idle": "2023-10-20T16:11:15.988922Z",
     "shell.execute_reply": "2023-10-20T16:11:15.988167Z"
    },
    "papermill": {
     "duration": 0.011471,
     "end_time": "2023-10-20T16:11:15.990696",
     "exception": false,
     "start_time": "2023-10-20T16:11:15.979225",
     "status": "completed"
    },
    "tags": []
   },
   "outputs": [
    {
     "name": "stdout",
     "output_type": "stream",
     "text": [
      "   PassengerId  Survived\n",
      "0          892         0\n",
      "1          893         1\n",
      "2          894         0\n",
      "3          895         0\n",
      "4          896         1\n"
     ]
    }
   ],
   "source": [
    "new_df = pd.DataFrame({'PassengerId': z['PassengerId']})\n",
    "\n",
    "# Add the 'Survived' column from the 'preds' variable\n",
    "new_df['Survived'] = preds\n",
    "\n",
    "# Display the first few rows of the new DataFrame\n",
    "print(new_df.head())"
   ]
  },
  {
   "cell_type": "code",
   "execution_count": 15,
   "id": "6ae69734",
   "metadata": {
    "execution": {
     "iopub.execute_input": "2023-10-20T16:11:15.998421Z",
     "iopub.status.busy": "2023-10-20T16:11:15.998017Z",
     "iopub.status.idle": "2023-10-20T16:11:16.005520Z",
     "shell.execute_reply": "2023-10-20T16:11:16.004413Z"
    },
    "papermill": {
     "duration": 0.013422,
     "end_time": "2023-10-20T16:11:16.007536",
     "exception": false,
     "start_time": "2023-10-20T16:11:15.994114",
     "status": "completed"
    },
    "tags": []
   },
   "outputs": [],
   "source": [
    "new_df.to_csv('/kaggle/working/submission11.csv', index=False)\n"
   ]
  },
  {
   "cell_type": "code",
   "execution_count": 16,
   "id": "2fa36e01",
   "metadata": {
    "execution": {
     "iopub.execute_input": "2023-10-20T16:11:16.015249Z",
     "iopub.status.busy": "2023-10-20T16:11:16.014955Z",
     "iopub.status.idle": "2023-10-20T16:11:16.411002Z",
     "shell.execute_reply": "2023-10-20T16:11:16.410143Z"
    },
    "papermill": {
     "duration": 0.40207,
     "end_time": "2023-10-20T16:11:16.413014",
     "exception": false,
     "start_time": "2023-10-20T16:11:16.010944",
     "status": "completed"
    },
    "tags": []
   },
   "outputs": [
    {
     "data": {
      "text/plain": [
       "'des.pdf'"
      ]
     },
     "execution_count": 16,
     "metadata": {},
     "output_type": "execute_result"
    }
   ],
   "source": [
    "from sklearn.tree import DecisionTreeClassifier\n",
    "  # Replace with your dataset\n",
    "from sklearn import tree\n",
    "import graphviz\n",
    "\n",
    "\n",
    "dot_data = tree.export_graphviz(clf, out_file=None, \n",
    "                                feature_names=x.columns,  # Use your feature names\n",
    "                                class_names=['Did not Survive', 'Survived'],  # Modify class names\n",
    "                                filled=True, rounded=True, special_characters=True)\n",
    "\n",
    "graph = graphviz.Source(dot_data)\n",
    "graph.render(\"des\")"
   ]
  }
 ],
 "metadata": {
  "kernelspec": {
   "display_name": "Python 3",
   "language": "python",
   "name": "python3"
  },
  "language_info": {
   "codemirror_mode": {
    "name": "ipython",
    "version": 3
   },
   "file_extension": ".py",
   "mimetype": "text/x-python",
   "name": "python",
   "nbconvert_exporter": "python",
   "pygments_lexer": "ipython3",
   "version": "3.10.12"
  },
  "papermill": {
   "default_parameters": {},
   "duration": 5.488459,
   "end_time": "2023-10-20T16:11:16.834142",
   "environment_variables": {},
   "exception": null,
   "input_path": "__notebook__.ipynb",
   "output_path": "__notebook__.ipynb",
   "parameters": {},
   "start_time": "2023-10-20T16:11:11.345683",
   "version": "2.4.0"
  }
 },
 "nbformat": 4,
 "nbformat_minor": 5
}
