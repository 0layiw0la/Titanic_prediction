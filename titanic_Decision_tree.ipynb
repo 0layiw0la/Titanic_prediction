{
 "cells": [
  {
   "cell_type": "code",
   "execution_count": 1,
   "id": "ede414d5",
   "metadata": {
    "_cell_guid": "b1076dfc-b9ad-4769-8c92-a6c4dae69d19",
    "_uuid": "8f2839f25d086af736a60e9eeb907d3b93b6e0e5",
    "execution": {
     "iopub.execute_input": "2023-10-21T00:37:58.461064Z",
     "iopub.status.busy": "2023-10-21T00:37:58.460717Z",
     "iopub.status.idle": "2023-10-21T00:38:00.950147Z",
     "shell.execute_reply": "2023-10-21T00:38:00.948618Z"
    },
    "papermill": {
     "duration": 2.497955,
     "end_time": "2023-10-21T00:38:00.953081",
     "exception": false,
     "start_time": "2023-10-21T00:37:58.455126",
     "status": "completed"
    },
    "tags": []
   },
   "outputs": [
    {
     "name": "stdout",
     "output_type": "stream",
     "text": [
      "/kaggle/input/titanic/train.csv\n",
      "/kaggle/input/titanic/test.csv\n",
      "/kaggle/input/titanic/gender_submission.csv\n"
     ]
    }
   ],
   "source": [
    "# This Python 3 environment comes with many helpful analytics libraries installed\n",
    "# It is defined by the kaggle/python Docker image: https://github.com/kaggle/docker-python\n",
    "# For example, here's several helpful packages to load\n",
    "\n",
    "import numpy as np # linear algebra\n",
    "import pandas as pd # data processing, CSV file I/O (e.g. pd.read_csv)\n",
    "import seaborn as sns\n",
    "from sklearn.model_selection import train_test_split\n",
    "from sklearn import metrics\n",
    "import matplotlib.pyplot as plt\n",
    "from sklearn.datasets import load_digits\n",
    "from sklearn.linear_model import LogisticRegression\n",
    "from sklearn.tree import DecisionTreeClassifier\n",
    "from sklearn.metrics import accuracy_score\n",
    "# Input data files are available in the read-only \"../input/\" directory\n",
    "# For example, running this (by clicking run or pressing Shift+Enter) will list all files under the input directory\n",
    "\n",
    "import os\n",
    "for dirname, _, filenames in os.walk('/kaggle/input'):\n",
    "    for filename in filenames:\n",
    "        print(os.path.join(dirname, filename))\n",
    "\n",
    "# You can write up to 20GB to the current directory (/kaggle/working/) that gets preserved as output when you create a version using \"Save & Run All\" \n",
    "# You can also write temporary files to /kaggle/temp/, but they won't be saved outside of the current session"
   ]
  },
  {
   "cell_type": "code",
   "execution_count": 2,
   "id": "dba11d05",
   "metadata": {
    "execution": {
     "iopub.execute_input": "2023-10-21T00:38:00.962869Z",
     "iopub.status.busy": "2023-10-21T00:38:00.962372Z",
     "iopub.status.idle": "2023-10-21T00:38:00.986367Z",
     "shell.execute_reply": "2023-10-21T00:38:00.985075Z"
    },
    "papermill": {
     "duration": 0.031955,
     "end_time": "2023-10-21T00:38:00.988902",
     "exception": false,
     "start_time": "2023-10-21T00:38:00.956947",
     "status": "completed"
    },
    "tags": []
   },
   "outputs": [],
   "source": [
    "titanic = pd.read_csv(r\"/kaggle/input/titanic/train.csv\")"
   ]
  },
  {
   "cell_type": "code",
   "execution_count": 3,
   "id": "a5075f1b",
   "metadata": {
    "execution": {
     "iopub.execute_input": "2023-10-21T00:38:00.998941Z",
     "iopub.status.busy": "2023-10-21T00:38:00.998563Z",
     "iopub.status.idle": "2023-10-21T00:38:01.022378Z",
     "shell.execute_reply": "2023-10-21T00:38:01.020504Z"
    },
    "papermill": {
     "duration": 0.031854,
     "end_time": "2023-10-21T00:38:01.025011",
     "exception": false,
     "start_time": "2023-10-21T00:38:00.993157",
     "status": "completed"
    },
    "tags": []
   },
   "outputs": [],
   "source": [
    "titanic = titanic.drop(['Name','Ticket'],axis=1)\n",
    "y = titanic[\"Survived\"]"
   ]
  },
  {
   "cell_type": "code",
   "execution_count": 4,
   "id": "64d56b6e",
   "metadata": {
    "execution": {
     "iopub.execute_input": "2023-10-21T00:38:01.034859Z",
     "iopub.status.busy": "2023-10-21T00:38:01.033957Z",
     "iopub.status.idle": "2023-10-21T00:38:01.046509Z",
     "shell.execute_reply": "2023-10-21T00:38:01.044638Z"
    },
    "papermill": {
     "duration": 0.019877,
     "end_time": "2023-10-21T00:38:01.048992",
     "exception": false,
     "start_time": "2023-10-21T00:38:01.029115",
     "status": "completed"
    },
    "tags": []
   },
   "outputs": [],
   "source": [
    "feat = ['Pclass','Sex','Fare','Embarked','SibSp','Parch']\n",
    "x = pd.get_dummies(titanic[feat])"
   ]
  },
  {
   "cell_type": "code",
   "execution_count": 5,
   "id": "defcaef8",
   "metadata": {
    "execution": {
     "iopub.execute_input": "2023-10-21T00:38:01.059287Z",
     "iopub.status.busy": "2023-10-21T00:38:01.058485Z",
     "iopub.status.idle": "2023-10-21T00:38:01.076603Z",
     "shell.execute_reply": "2023-10-21T00:38:01.075716Z"
    },
    "papermill": {
     "duration": 0.025344,
     "end_time": "2023-10-21T00:38:01.078535",
     "exception": false,
     "start_time": "2023-10-21T00:38:01.053191",
     "status": "completed"
    },
    "tags": []
   },
   "outputs": [
    {
     "data": {
      "text/html": [
       "<div>\n",
       "<style scoped>\n",
       "    .dataframe tbody tr th:only-of-type {\n",
       "        vertical-align: middle;\n",
       "    }\n",
       "\n",
       "    .dataframe tbody tr th {\n",
       "        vertical-align: top;\n",
       "    }\n",
       "\n",
       "    .dataframe thead th {\n",
       "        text-align: right;\n",
       "    }\n",
       "</style>\n",
       "<table border=\"1\" class=\"dataframe\">\n",
       "  <thead>\n",
       "    <tr style=\"text-align: right;\">\n",
       "      <th></th>\n",
       "      <th>Pclass</th>\n",
       "      <th>Fare</th>\n",
       "      <th>SibSp</th>\n",
       "      <th>Parch</th>\n",
       "      <th>Sex_female</th>\n",
       "      <th>Sex_male</th>\n",
       "      <th>Embarked_C</th>\n",
       "      <th>Embarked_Q</th>\n",
       "      <th>Embarked_S</th>\n",
       "    </tr>\n",
       "  </thead>\n",
       "  <tbody>\n",
       "    <tr>\n",
       "      <th>0</th>\n",
       "      <td>3</td>\n",
       "      <td>7.2500</td>\n",
       "      <td>1</td>\n",
       "      <td>0</td>\n",
       "      <td>False</td>\n",
       "      <td>True</td>\n",
       "      <td>False</td>\n",
       "      <td>False</td>\n",
       "      <td>True</td>\n",
       "    </tr>\n",
       "    <tr>\n",
       "      <th>1</th>\n",
       "      <td>1</td>\n",
       "      <td>71.2833</td>\n",
       "      <td>1</td>\n",
       "      <td>0</td>\n",
       "      <td>True</td>\n",
       "      <td>False</td>\n",
       "      <td>True</td>\n",
       "      <td>False</td>\n",
       "      <td>False</td>\n",
       "    </tr>\n",
       "    <tr>\n",
       "      <th>2</th>\n",
       "      <td>3</td>\n",
       "      <td>7.9250</td>\n",
       "      <td>0</td>\n",
       "      <td>0</td>\n",
       "      <td>True</td>\n",
       "      <td>False</td>\n",
       "      <td>False</td>\n",
       "      <td>False</td>\n",
       "      <td>True</td>\n",
       "    </tr>\n",
       "    <tr>\n",
       "      <th>3</th>\n",
       "      <td>1</td>\n",
       "      <td>53.1000</td>\n",
       "      <td>1</td>\n",
       "      <td>0</td>\n",
       "      <td>True</td>\n",
       "      <td>False</td>\n",
       "      <td>False</td>\n",
       "      <td>False</td>\n",
       "      <td>True</td>\n",
       "    </tr>\n",
       "    <tr>\n",
       "      <th>4</th>\n",
       "      <td>3</td>\n",
       "      <td>8.0500</td>\n",
       "      <td>0</td>\n",
       "      <td>0</td>\n",
       "      <td>False</td>\n",
       "      <td>True</td>\n",
       "      <td>False</td>\n",
       "      <td>False</td>\n",
       "      <td>True</td>\n",
       "    </tr>\n",
       "  </tbody>\n",
       "</table>\n",
       "</div>"
      ],
      "text/plain": [
       "   Pclass     Fare  SibSp  Parch  Sex_female  Sex_male  Embarked_C  \\\n",
       "0       3   7.2500      1      0       False      True       False   \n",
       "1       1  71.2833      1      0        True     False        True   \n",
       "2       3   7.9250      0      0        True     False       False   \n",
       "3       1  53.1000      1      0        True     False       False   \n",
       "4       3   8.0500      0      0       False      True       False   \n",
       "\n",
       "   Embarked_Q  Embarked_S  \n",
       "0       False        True  \n",
       "1       False       False  \n",
       "2       False        True  \n",
       "3       False        True  \n",
       "4       False        True  "
      ]
     },
     "execution_count": 5,
     "metadata": {},
     "output_type": "execute_result"
    }
   ],
   "source": [
    "x.head()"
   ]
  },
  {
   "cell_type": "code",
   "execution_count": 6,
   "id": "92aa1489",
   "metadata": {
    "execution": {
     "iopub.execute_input": "2023-10-21T00:38:01.088323Z",
     "iopub.status.busy": "2023-10-21T00:38:01.087820Z",
     "iopub.status.idle": "2023-10-21T00:38:01.098864Z",
     "shell.execute_reply": "2023-10-21T00:38:01.097950Z"
    },
    "papermill": {
     "duration": 0.018775,
     "end_time": "2023-10-21T00:38:01.101435",
     "exception": false,
     "start_time": "2023-10-21T00:38:01.082660",
     "status": "completed"
    },
    "tags": []
   },
   "outputs": [],
   "source": [
    "x_train,x_test,y_train,y_test = train_test_split(x,y,test_size=0.25,stratify=titanic[[\"Sex\",\"Pclass\"]],random_state=45)"
   ]
  },
  {
   "cell_type": "code",
   "execution_count": 7,
   "id": "02e6355f",
   "metadata": {
    "execution": {
     "iopub.execute_input": "2023-10-21T00:38:01.111509Z",
     "iopub.status.busy": "2023-10-21T00:38:01.111132Z",
     "iopub.status.idle": "2023-10-21T00:38:01.127123Z",
     "shell.execute_reply": "2023-10-21T00:38:01.125935Z"
    },
    "papermill": {
     "duration": 0.023455,
     "end_time": "2023-10-21T00:38:01.129235",
     "exception": false,
     "start_time": "2023-10-21T00:38:01.105780",
     "status": "completed"
    },
    "tags": []
   },
   "outputs": [
    {
     "data": {
      "text/html": [
       "<style>#sk-container-id-1 {color: black;background-color: white;}#sk-container-id-1 pre{padding: 0;}#sk-container-id-1 div.sk-toggleable {background-color: white;}#sk-container-id-1 label.sk-toggleable__label {cursor: pointer;display: block;width: 100%;margin-bottom: 0;padding: 0.3em;box-sizing: border-box;text-align: center;}#sk-container-id-1 label.sk-toggleable__label-arrow:before {content: \"▸\";float: left;margin-right: 0.25em;color: #696969;}#sk-container-id-1 label.sk-toggleable__label-arrow:hover:before {color: black;}#sk-container-id-1 div.sk-estimator:hover label.sk-toggleable__label-arrow:before {color: black;}#sk-container-id-1 div.sk-toggleable__content {max-height: 0;max-width: 0;overflow: hidden;text-align: left;background-color: #f0f8ff;}#sk-container-id-1 div.sk-toggleable__content pre {margin: 0.2em;color: black;border-radius: 0.25em;background-color: #f0f8ff;}#sk-container-id-1 input.sk-toggleable__control:checked~div.sk-toggleable__content {max-height: 200px;max-width: 100%;overflow: auto;}#sk-container-id-1 input.sk-toggleable__control:checked~label.sk-toggleable__label-arrow:before {content: \"▾\";}#sk-container-id-1 div.sk-estimator input.sk-toggleable__control:checked~label.sk-toggleable__label {background-color: #d4ebff;}#sk-container-id-1 div.sk-label input.sk-toggleable__control:checked~label.sk-toggleable__label {background-color: #d4ebff;}#sk-container-id-1 input.sk-hidden--visually {border: 0;clip: rect(1px 1px 1px 1px);clip: rect(1px, 1px, 1px, 1px);height: 1px;margin: -1px;overflow: hidden;padding: 0;position: absolute;width: 1px;}#sk-container-id-1 div.sk-estimator {font-family: monospace;background-color: #f0f8ff;border: 1px dotted black;border-radius: 0.25em;box-sizing: border-box;margin-bottom: 0.5em;}#sk-container-id-1 div.sk-estimator:hover {background-color: #d4ebff;}#sk-container-id-1 div.sk-parallel-item::after {content: \"\";width: 100%;border-bottom: 1px solid gray;flex-grow: 1;}#sk-container-id-1 div.sk-label:hover label.sk-toggleable__label {background-color: #d4ebff;}#sk-container-id-1 div.sk-serial::before {content: \"\";position: absolute;border-left: 1px solid gray;box-sizing: border-box;top: 0;bottom: 0;left: 50%;z-index: 0;}#sk-container-id-1 div.sk-serial {display: flex;flex-direction: column;align-items: center;background-color: white;padding-right: 0.2em;padding-left: 0.2em;position: relative;}#sk-container-id-1 div.sk-item {position: relative;z-index: 1;}#sk-container-id-1 div.sk-parallel {display: flex;align-items: stretch;justify-content: center;background-color: white;position: relative;}#sk-container-id-1 div.sk-item::before, #sk-container-id-1 div.sk-parallel-item::before {content: \"\";position: absolute;border-left: 1px solid gray;box-sizing: border-box;top: 0;bottom: 0;left: 50%;z-index: -1;}#sk-container-id-1 div.sk-parallel-item {display: flex;flex-direction: column;z-index: 1;position: relative;background-color: white;}#sk-container-id-1 div.sk-parallel-item:first-child::after {align-self: flex-end;width: 50%;}#sk-container-id-1 div.sk-parallel-item:last-child::after {align-self: flex-start;width: 50%;}#sk-container-id-1 div.sk-parallel-item:only-child::after {width: 0;}#sk-container-id-1 div.sk-dashed-wrapped {border: 1px dashed gray;margin: 0 0.4em 0.5em 0.4em;box-sizing: border-box;padding-bottom: 0.4em;background-color: white;}#sk-container-id-1 div.sk-label label {font-family: monospace;font-weight: bold;display: inline-block;line-height: 1.2em;}#sk-container-id-1 div.sk-label-container {text-align: center;}#sk-container-id-1 div.sk-container {/* jupyter's `normalize.less` sets `[hidden] { display: none; }` but bootstrap.min.css set `[hidden] { display: none !important; }` so we also need the `!important` here to be able to override the default hidden behavior on the sphinx rendered scikit-learn.org. See: https://github.com/scikit-learn/scikit-learn/issues/21755 */display: inline-block !important;position: relative;}#sk-container-id-1 div.sk-text-repr-fallback {display: none;}</style><div id=\"sk-container-id-1\" class=\"sk-top-container\"><div class=\"sk-text-repr-fallback\"><pre>DecisionTreeClassifier(criterion=&#x27;entropy&#x27;, max_depth=5, random_state=5)</pre><b>In a Jupyter environment, please rerun this cell to show the HTML representation or trust the notebook. <br />On GitHub, the HTML representation is unable to render, please try loading this page with nbviewer.org.</b></div><div class=\"sk-container\" hidden><div class=\"sk-item\"><div class=\"sk-estimator sk-toggleable\"><input class=\"sk-toggleable__control sk-hidden--visually\" id=\"sk-estimator-id-1\" type=\"checkbox\" checked><label for=\"sk-estimator-id-1\" class=\"sk-toggleable__label sk-toggleable__label-arrow\">DecisionTreeClassifier</label><div class=\"sk-toggleable__content\"><pre>DecisionTreeClassifier(criterion=&#x27;entropy&#x27;, max_depth=5, random_state=5)</pre></div></div></div></div></div>"
      ],
      "text/plain": [
       "DecisionTreeClassifier(criterion='entropy', max_depth=5, random_state=5)"
      ]
     },
     "execution_count": 7,
     "metadata": {},
     "output_type": "execute_result"
    }
   ],
   "source": [
    "clf = DecisionTreeClassifier(criterion=\"entropy\",random_state=5,max_depth=5)\n",
    "clf.fit(x,y)"
   ]
  },
  {
   "cell_type": "code",
   "execution_count": 8,
   "id": "a0c7cc29",
   "metadata": {
    "execution": {
     "iopub.execute_input": "2023-10-21T00:38:01.139634Z",
     "iopub.status.busy": "2023-10-21T00:38:01.138729Z",
     "iopub.status.idle": "2023-10-21T00:38:01.154366Z",
     "shell.execute_reply": "2023-10-21T00:38:01.152808Z"
    },
    "papermill": {
     "duration": 0.023328,
     "end_time": "2023-10-21T00:38:01.156924",
     "exception": false,
     "start_time": "2023-10-21T00:38:01.133596",
     "status": "completed"
    },
    "tags": []
   },
   "outputs": [],
   "source": [
    "test = pd.read_csv(\"/kaggle/input/titanic/test.csv\")\n",
    "test = pd.get_dummies(test[feat])"
   ]
  },
  {
   "cell_type": "code",
   "execution_count": 9,
   "id": "31732d10",
   "metadata": {
    "execution": {
     "iopub.execute_input": "2023-10-21T00:38:01.167300Z",
     "iopub.status.busy": "2023-10-21T00:38:01.166915Z",
     "iopub.status.idle": "2023-10-21T00:38:01.181773Z",
     "shell.execute_reply": "2023-10-21T00:38:01.180417Z"
    },
    "papermill": {
     "duration": 0.022755,
     "end_time": "2023-10-21T00:38:01.184145",
     "exception": false,
     "start_time": "2023-10-21T00:38:01.161390",
     "status": "completed"
    },
    "tags": []
   },
   "outputs": [],
   "source": [
    "mean_fare_by_pclass = test.groupby(\"Pclass\")[\"Fare\"].transform(\"mean\")\n",
    "\n",
    "# Use the calculated means to fill missing values in the Fare column\n",
    "test[\"Fare\"].fillna(mean_fare_by_pclass, inplace=True)"
   ]
  },
  {
   "cell_type": "code",
   "execution_count": 10,
   "id": "852c519d",
   "metadata": {
    "execution": {
     "iopub.execute_input": "2023-10-21T00:38:01.195834Z",
     "iopub.status.busy": "2023-10-21T00:38:01.194501Z",
     "iopub.status.idle": "2023-10-21T00:38:01.203977Z",
     "shell.execute_reply": "2023-10-21T00:38:01.202548Z"
    },
    "papermill": {
     "duration": 0.017747,
     "end_time": "2023-10-21T00:38:01.206316",
     "exception": false,
     "start_time": "2023-10-21T00:38:01.188569",
     "status": "completed"
    },
    "tags": []
   },
   "outputs": [
    {
     "data": {
      "text/plain": [
       "Pclass        0\n",
       "Fare          0\n",
       "SibSp         0\n",
       "Parch         0\n",
       "Sex_female    0\n",
       "Sex_male      0\n",
       "Embarked_C    0\n",
       "Embarked_Q    0\n",
       "Embarked_S    0\n",
       "dtype: int64"
      ]
     },
     "execution_count": 10,
     "metadata": {},
     "output_type": "execute_result"
    }
   ],
   "source": [
    "test.isna().sum()"
   ]
  },
  {
   "cell_type": "code",
   "execution_count": 11,
   "id": "546dedf8",
   "metadata": {
    "execution": {
     "iopub.execute_input": "2023-10-21T00:38:01.218416Z",
     "iopub.status.busy": "2023-10-21T00:38:01.217488Z",
     "iopub.status.idle": "2023-10-21T00:38:01.223517Z",
     "shell.execute_reply": "2023-10-21T00:38:01.222871Z"
    },
    "papermill": {
     "duration": 0.014001,
     "end_time": "2023-10-21T00:38:01.225354",
     "exception": false,
     "start_time": "2023-10-21T00:38:01.211353",
     "status": "completed"
    },
    "tags": []
   },
   "outputs": [],
   "source": [
    "preds = clf.predict(test)"
   ]
  },
  {
   "cell_type": "code",
   "execution_count": 12,
   "id": "34cbf6f8",
   "metadata": {
    "execution": {
     "iopub.execute_input": "2023-10-21T00:38:01.236359Z",
     "iopub.status.busy": "2023-10-21T00:38:01.235751Z",
     "iopub.status.idle": "2023-10-21T00:38:01.241091Z",
     "shell.execute_reply": "2023-10-21T00:38:01.240209Z"
    },
    "papermill": {
     "duration": 0.013801,
     "end_time": "2023-10-21T00:38:01.243755",
     "exception": false,
     "start_time": "2023-10-21T00:38:01.229954",
     "status": "completed"
    },
    "tags": []
   },
   "outputs": [
    {
     "data": {
      "text/plain": [
       "(418,)"
      ]
     },
     "execution_count": 12,
     "metadata": {},
     "output_type": "execute_result"
    }
   ],
   "source": [
    "preds.shape"
   ]
  },
  {
   "cell_type": "code",
   "execution_count": 13,
   "id": "8c7d996a",
   "metadata": {
    "execution": {
     "iopub.execute_input": "2023-10-21T00:38:01.254898Z",
     "iopub.status.busy": "2023-10-21T00:38:01.254563Z",
     "iopub.status.idle": "2023-10-21T00:38:01.264955Z",
     "shell.execute_reply": "2023-10-21T00:38:01.263984Z"
    },
    "papermill": {
     "duration": 0.018642,
     "end_time": "2023-10-21T00:38:01.267407",
     "exception": false,
     "start_time": "2023-10-21T00:38:01.248765",
     "status": "completed"
    },
    "tags": []
   },
   "outputs": [
    {
     "data": {
      "text/plain": [
       "(418, 11)"
      ]
     },
     "execution_count": 13,
     "metadata": {},
     "output_type": "execute_result"
    }
   ],
   "source": [
    "z = pd.read_csv(r\"/kaggle/input/titanic/test.csv\")\n",
    "z.shape"
   ]
  },
  {
   "cell_type": "code",
   "execution_count": 14,
   "id": "f357a923",
   "metadata": {
    "execution": {
     "iopub.execute_input": "2023-10-21T00:38:01.278337Z",
     "iopub.status.busy": "2023-10-21T00:38:01.277942Z",
     "iopub.status.idle": "2023-10-21T00:38:01.287332Z",
     "shell.execute_reply": "2023-10-21T00:38:01.285874Z"
    },
    "papermill": {
     "duration": 0.017699,
     "end_time": "2023-10-21T00:38:01.289892",
     "exception": false,
     "start_time": "2023-10-21T00:38:01.272193",
     "status": "completed"
    },
    "tags": []
   },
   "outputs": [
    {
     "name": "stdout",
     "output_type": "stream",
     "text": [
      "   PassengerId  Survived\n",
      "0          892         0\n",
      "1          893         1\n",
      "2          894         0\n",
      "3          895         0\n",
      "4          896         0\n"
     ]
    }
   ],
   "source": [
    "new_df = pd.DataFrame({'PassengerId': z['PassengerId']})\n",
    "\n",
    "# Add the 'Survived' column from the 'preds' variable\n",
    "new_df['Survived'] = preds\n",
    "\n",
    "# Display the first few rows of the new DataFrame\n",
    "print(new_df.head())"
   ]
  },
  {
   "cell_type": "code",
   "execution_count": 15,
   "id": "38b5513a",
   "metadata": {
    "execution": {
     "iopub.execute_input": "2023-10-21T00:38:01.301272Z",
     "iopub.status.busy": "2023-10-21T00:38:01.300854Z",
     "iopub.status.idle": "2023-10-21T00:38:01.307936Z",
     "shell.execute_reply": "2023-10-21T00:38:01.307106Z"
    },
    "papermill": {
     "duration": 0.015712,
     "end_time": "2023-10-21T00:38:01.310573",
     "exception": false,
     "start_time": "2023-10-21T00:38:01.294861",
     "status": "completed"
    },
    "tags": []
   },
   "outputs": [],
   "source": [
    "new_df.to_csv('/kaggle/working/submission17.csv', index=False)\n"
   ]
  },
  {
   "cell_type": "code",
   "execution_count": 16,
   "id": "b09772af",
   "metadata": {
    "execution": {
     "iopub.execute_input": "2023-10-21T00:38:01.322431Z",
     "iopub.status.busy": "2023-10-21T00:38:01.322023Z",
     "iopub.status.idle": "2023-10-21T00:38:01.598107Z",
     "shell.execute_reply": "2023-10-21T00:38:01.597143Z"
    },
    "papermill": {
     "duration": 0.284475,
     "end_time": "2023-10-21T00:38:01.600088",
     "exception": false,
     "start_time": "2023-10-21T00:38:01.315613",
     "status": "completed"
    },
    "tags": []
   },
   "outputs": [
    {
     "data": {
      "text/plain": [
       "'des.pdf'"
      ]
     },
     "execution_count": 16,
     "metadata": {},
     "output_type": "execute_result"
    }
   ],
   "source": [
    "from sklearn.tree import DecisionTreeClassifier\n",
    "  # Replace with your dataset\n",
    "from sklearn import tree\n",
    "import graphviz\n",
    "\n",
    "\n",
    "dot_data = tree.export_graphviz(clf, out_file=None, \n",
    "                                feature_names=x.columns,  # Use your feature names\n",
    "                                class_names=['Did not Survive', 'Survived'],  # Modify class names\n",
    "                                filled=True, rounded=True, special_characters=True)\n",
    "\n",
    "graph = graphviz.Source(dot_data)\n",
    "graph.render(\"des\")"
   ]
  }
 ],
 "metadata": {
  "kernelspec": {
   "display_name": "Python 3",
   "language": "python",
   "name": "python3"
  },
  "language_info": {
   "codemirror_mode": {
    "name": "ipython",
    "version": 3
   },
   "file_extension": ".py",
   "mimetype": "text/x-python",
   "name": "python",
   "nbconvert_exporter": "python",
   "pygments_lexer": "ipython3",
   "version": "3.10.12"
  },
  "papermill": {
   "default_parameters": {},
   "duration": 6.590415,
   "end_time": "2023-10-21T00:38:02.124480",
   "environment_variables": {},
   "exception": null,
   "input_path": "__notebook__.ipynb",
   "output_path": "__notebook__.ipynb",
   "parameters": {},
   "start_time": "2023-10-21T00:37:55.534065",
   "version": "2.4.0"
  }
 },
 "nbformat": 4,
 "nbformat_minor": 5
}
